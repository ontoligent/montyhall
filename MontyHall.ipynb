{
 "cells": [
  {
   "cell_type": "markdown",
   "id": "ae40ae5f-28f6-4012-a8c7-b9ce0fa0d0e5",
   "metadata": {},
   "source": [
    "# The Monty Hall Problem"
   ]
  },
  {
   "cell_type": "code",
   "execution_count": 1,
   "id": "42461468-250e-4fb7-b412-697c9d9f8538",
   "metadata": {
    "tags": []
   },
   "outputs": [],
   "source": [
    "import pandas as pd\n",
    "import numpy as np"
   ]
  },
  {
   "cell_type": "markdown",
   "id": "71f01b91-e489-4574-af30-64c3e2df597e",
   "metadata": {},
   "source": [
    "# The Model"
   ]
  },
  {
   "cell_type": "markdown",
   "id": "452b8574-eb70-438e-881a-65c199404481",
   "metadata": {},
   "source": [
    "![](monty-hall-as-pgm.png)"
   ]
  },
  {
   "cell_type": "markdown",
   "id": "e4fdc8cc-a5ba-4b4c-9f31-b282b2b03ce8",
   "metadata": {},
   "source": [
    "# As Class"
   ]
  },
  {
   "cell_type": "code",
   "execution_count": 2,
   "id": "c9e52cf8-c89f-4105-80da-b90b4667d827",
   "metadata": {
    "tags": []
   },
   "outputs": [],
   "source": [
    "class MontyHall():\n",
    "    \n",
    "    S  = \"keep switch flip\".split()\n",
    "    \n",
    "    def __init__(self, s = 'switch'):\n",
    "        if s not in self.S:\n",
    "            raise ValueError(f\"s must be one of {S}.\")\n",
    "        self.s = s\n",
    "        self.game = pd.DataFrame(dict(X = None), index=pd.Index(\"A B C\".split(), name='door_id'))\n",
    "            \n",
    "    def X(self):\n",
    "        self.game.X = 0\n",
    "        self.game.loc[self.game.sample().index, 'X'] = 1\n",
    "        \n",
    "    def G1(self):\n",
    "        self.game['G1'] = 0\n",
    "        self.game.loc[self.game.sample().index, 'G1'] = 1\n",
    "        \n",
    "    def H(self):\n",
    "        self.game['H'] = 0\n",
    "        # idx = (self.game.X + self.game.G1) == 0\n",
    "        self.game.loc[self.game[(self.game.X == 0) & (self.game.G1 == 0)].sample().index, 'H'] = 1\n",
    "        \n",
    "    def G2(self):\n",
    "        self.game['G2'] = 0\n",
    "        if self.s == 'switch':\n",
    "            # idx = (self.game.G1 + self.game.H) == 0\n",
    "            self.game.loc[self.game[(self.game.G1 == 0) & (self.game.H == 0)].index, 'G2'] = 1\n",
    "        elif self.s == 'keep':\n",
    "            self.game.G2 = self.game.G1\n",
    "        elif self.s == 'flip':\n",
    "            # idx = self.game.H == 0\n",
    "            self.game.loc[self.game[self.game.H == 0].sample().index, 'G2'] = 1\n",
    "        else:\n",
    "            pass\n",
    "        \n",
    "    def R(self):\n",
    "        self.game['R'] = self.game.X * self.game.G2\n",
    "        self.result = self.game.R.sum()\n",
    "        \n",
    "    def play(self):\n",
    "        self.X()\n",
    "        self.G1()\n",
    "        self.H()\n",
    "        self.G2()\n",
    "        self.R() \n",
    "        return self\n",
    "    \n",
    "    def play_many(self, n=1000):\n",
    "        r = 0\n",
    "        for i in range(n):\n",
    "            r += self.play().result\n",
    "        return r/n"
   ]
  },
  {
   "cell_type": "code",
   "execution_count": 17,
   "id": "7f11d719-fd65-4d40-a493-3b7cb6592dba",
   "metadata": {
    "tags": []
   },
   "outputs": [],
   "source": [
    "mh = MontyHall()"
   ]
  },
  {
   "cell_type": "code",
   "execution_count": 71,
   "id": "af9ed3c3-c745-4178-b678-2233f1cdc775",
   "metadata": {
    "tags": []
   },
   "outputs": [
    {
     "data": {
      "text/plain": [
       "0.334"
      ]
     },
     "execution_count": 71,
     "metadata": {},
     "output_type": "execute_result"
    }
   ],
   "source": [
    "mh.s = 'keep'\n",
    "mh.play_many()"
   ]
  },
  {
   "cell_type": "code",
   "execution_count": 72,
   "id": "a0992425-358c-4e5a-8638-24547d60d363",
   "metadata": {
    "tags": []
   },
   "outputs": [
    {
     "data": {
      "text/plain": [
       "0.649"
      ]
     },
     "execution_count": 72,
     "metadata": {},
     "output_type": "execute_result"
    }
   ],
   "source": [
    "mh.s = 'switch'\n",
    "mh.play_many()"
   ]
  },
  {
   "cell_type": "code",
   "execution_count": 73,
   "id": "657b6a77-3e45-43a0-a62d-e65abe961e76",
   "metadata": {
    "tags": []
   },
   "outputs": [
    {
     "data": {
      "text/plain": [
       "0.498"
      ]
     },
     "execution_count": 73,
     "metadata": {},
     "output_type": "execute_result"
    }
   ],
   "source": [
    "mh.s = 'flip'\n",
    "mh.play_many()"
   ]
  },
  {
   "cell_type": "code",
   "execution_count": 74,
   "id": "5b1d4428-37ff-4b98-a363-e185ed25f991",
   "metadata": {
    "tags": []
   },
   "outputs": [
    {
     "data": {
      "text/html": [
       "<div>\n",
       "<style scoped>\n",
       "    .dataframe tbody tr th:only-of-type {\n",
       "        vertical-align: middle;\n",
       "    }\n",
       "\n",
       "    .dataframe tbody tr th {\n",
       "        vertical-align: top;\n",
       "    }\n",
       "\n",
       "    .dataframe thead th {\n",
       "        text-align: right;\n",
       "    }\n",
       "</style>\n",
       "<table border=\"1\" class=\"dataframe\">\n",
       "  <thead>\n",
       "    <tr style=\"text-align: right;\">\n",
       "      <th></th>\n",
       "      <th>X</th>\n",
       "      <th>G1</th>\n",
       "      <th>H</th>\n",
       "      <th>G2</th>\n",
       "      <th>R</th>\n",
       "    </tr>\n",
       "    <tr>\n",
       "      <th>door_id</th>\n",
       "      <th></th>\n",
       "      <th></th>\n",
       "      <th></th>\n",
       "      <th></th>\n",
       "      <th></th>\n",
       "    </tr>\n",
       "  </thead>\n",
       "  <tbody>\n",
       "    <tr>\n",
       "      <th>A</th>\n",
       "      <td>1</td>\n",
       "      <td>1</td>\n",
       "      <td>0</td>\n",
       "      <td>1</td>\n",
       "      <td>1</td>\n",
       "    </tr>\n",
       "    <tr>\n",
       "      <th>B</th>\n",
       "      <td>0</td>\n",
       "      <td>0</td>\n",
       "      <td>0</td>\n",
       "      <td>0</td>\n",
       "      <td>0</td>\n",
       "    </tr>\n",
       "    <tr>\n",
       "      <th>C</th>\n",
       "      <td>0</td>\n",
       "      <td>0</td>\n",
       "      <td>1</td>\n",
       "      <td>0</td>\n",
       "      <td>0</td>\n",
       "    </tr>\n",
       "  </tbody>\n",
       "</table>\n",
       "</div>"
      ],
      "text/plain": [
       "         X  G1  H  G2  R\n",
       "door_id                 \n",
       "A        1   1  0   1  1\n",
       "B        0   0  0   0  0\n",
       "C        0   0  1   0  0"
      ]
     },
     "execution_count": 74,
     "metadata": {},
     "output_type": "execute_result"
    }
   ],
   "source": [
    "mh.game"
   ]
  },
  {
   "cell_type": "code",
   "execution_count": null,
   "id": "19e854c2-360f-4d0e-bfe0-3c9da364f82d",
   "metadata": {},
   "outputs": [],
   "source": []
  }
 ],
 "metadata": {
  "kernelspec": {
   "display_name": "eta",
   "language": "python",
   "name": "eta"
  },
  "language_info": {
   "codemirror_mode": {
    "name": "ipython",
    "version": 3
   },
   "file_extension": ".py",
   "mimetype": "text/x-python",
   "name": "python",
   "nbconvert_exporter": "python",
   "pygments_lexer": "ipython3",
   "version": "3.9.19"
  }
 },
 "nbformat": 4,
 "nbformat_minor": 5
}
