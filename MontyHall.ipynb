{
 "cells": [
  {
   "cell_type": "markdown",
   "id": "ae40ae5f-28f6-4012-a8c7-b9ce0fa0d0e5",
   "metadata": {
    "tags": []
   },
   "source": [
    "# The Monty Hall Problem\n",
    "\n",
    "R.C. Alvarado\n",
    "\n",
    "This notebook implements a solution to the Monty Hall problem as given in the paper, [\"What's So Hard about the Monty Hall Problem\" (Alvarado 2024)](./alvaado-2024.pdf). "
   ]
  },
  {
   "cell_type": "code",
   "execution_count": 1,
   "id": "42461468-250e-4fb7-b412-697c9d9f8538",
   "metadata": {
    "tags": []
   },
   "outputs": [],
   "source": [
    "import pandas as pd\n",
    "import numpy as np"
   ]
  },
  {
   "cell_type": "markdown",
   "id": "71f01b91-e489-4574-af30-64c3e2df597e",
   "metadata": {},
   "source": [
    "# Model\n",
    "\n",
    "The problem is represented as a probabilistic graphic model (PGM) with six random variables represented as nodes."
   ]
  },
  {
   "cell_type": "markdown",
   "id": "452b8574-eb70-438e-881a-65c199404481",
   "metadata": {},
   "source": [
    "![](monty-hall-as-pgm.png)"
   ]
  },
  {
   "cell_type": "markdown",
   "id": "1710f0aa-78a4-42f2-b3c0-3be5910bacfb",
   "metadata": {
    "tags": []
   },
   "source": [
    "$$\n",
    "D = \\{A, B, C\\}\\\\\n",
    "S(): s \\in \\{keep, switch, flip\\}\\\\\n",
    "X(): x \\in D\\\\\n",
    "G_1(): g_1 \\in D\\\\\n",
    "H(x, g_1): h \\in D - \\{x \\cup g_1\\}\\\\\n",
    "G_2(g_1, h, s): \\left\\{ \\begin{array}{ll}\n",
    "        s = switch: & g_2 \\in D - \\{h \\cup g_1\\} \\\\\n",
    "        s = keep: & g_2 = g_1 \\\\\n",
    "        s = flip: & g_2 \\in D - h\n",
    "\\end{array} \\right.\\\\\n",
    "R(x, g_2): r = x \\equiv g_2\\\\\n",
    "$$"
   ]
  },
  {
   "cell_type": "markdown",
   "id": "e4fdc8cc-a5ba-4b4c-9f31-b282b2b03ce8",
   "metadata": {},
   "source": [
    "# Class\n",
    "\n",
    "The following class defines methods for each of the random variables described above and methods for playing the game in order to test hypotheses about the probabilities of winning and losing based on the strategy $S$ to switch or keep doors after the host opens a door.\n",
    "\n",
    "We model the game as a state frame with each door as a row and each random variable as a column.\n",
    "\n",
    "$S$ is not modeled as a column. Instead it is a meta-variable that corresponds to the hypothesis about which strategy to choose."
   ]
  },
  {
   "cell_type": "code",
   "execution_count": 33,
   "id": "c9e52cf8-c89f-4105-80da-b90b4667d827",
   "metadata": {
    "tags": []
   },
   "outputs": [],
   "source": [
    "class MontyHall():\n",
    "    \n",
    "    S  = \"keep switch flip\".split()\n",
    "    D = \"A B C\".split()\n",
    "\n",
    "    # Initialize the game \n",
    "    def __init__(self, s = 'switch'):\n",
    "        if s not in self.S:\n",
    "            raise ValueError(f\"s must be one of {S}.\")\n",
    "        self.s = s\n",
    "        self.game = pd.DataFrame(dict(X = None), index=pd.Index(self.D, name='door_id'))\n",
    "            \n",
    "    # Hide the car\n",
    "    def X(self):\n",
    "        self.game.X = 0\n",
    "        self.game.loc[self.game.sample().index, 'X'] = 1\n",
    "        \n",
    "    # Contestant's first guess\n",
    "    def G1(self):\n",
    "        self.game['G1'] = 0\n",
    "        self.game.loc[self.game.sample().index, 'G1'] = 1\n",
    "        \n",
    "    # Host's reveal\n",
    "    def H(self):\n",
    "        self.game['H'] = 0\n",
    "        # idx = (self.game.X + self.game.G1) == 0\n",
    "        self.game.loc[self.game[(self.game.X == 0) & (self.game.G1 == 0)].sample().index, 'H'] = 1\n",
    "        \n",
    "    # Contestant's second guess\n",
    "    def G2(self):\n",
    "        self.game['G2'] = 0\n",
    "        if self.s == 'switch':\n",
    "            # idx = (self.game.G1 + self.game.H) == 0\n",
    "            self.game.loc[self.game[(self.game.G1 == 0) & (self.game.H == 0)].index, 'G2'] = 1\n",
    "        elif self.s == 'keep':\n",
    "            self.game.G2 = self.game.G1\n",
    "        elif self.s == 'flip':\n",
    "            # idx = self.game.H == 0\n",
    "            self.game.loc[self.game[self.game.H == 0].sample().index, 'G2'] = 1\n",
    "        else:\n",
    "            pass\n",
    "        \n",
    "    # Result of the game\n",
    "    def R(self):\n",
    "        self.game['R'] = self.game.X * self.game.G2\n",
    "        self.result = self.game.R.sum()\n",
    "        \n",
    "    # Play a single game\n",
    "    def play_one(self):\n",
    "        self.X()\n",
    "        self.G1()\n",
    "        self.H()\n",
    "        self.G2()\n",
    "        self.R() \n",
    "        return self\n",
    "    \n",
    "    # Play many games to test hypotheses\n",
    "    def play_many(self, n=1000):\n",
    "        return sum([self.play_one().result for i in range(n)]) / n    "
   ]
  },
  {
   "cell_type": "markdown",
   "id": "04aabe80",
   "metadata": {},
   "source": [
    "# Test\n",
    "\n",
    "We test the model with the three strategies."
   ]
  },
  {
   "cell_type": "code",
   "execution_count": 34,
   "id": "7f11d719-fd65-4d40-a493-3b7cb6592dba",
   "metadata": {
    "tags": []
   },
   "outputs": [],
   "source": [
    "mh = MontyHall()"
   ]
  },
  {
   "cell_type": "code",
   "execution_count": 35,
   "id": "f5586a85-4225-484e-bc20-1bc8ba469821",
   "metadata": {},
   "outputs": [
    {
     "name": "stdout",
     "output_type": "stream",
     "text": [
      "keep\t0.299\n",
      "switch\t0.667\n",
      "flip\t0.507\n"
     ]
    }
   ],
   "source": [
    "for s in MontyHall.S:\n",
    "    mh.s = s\n",
    "    r = mh.play_many()\n",
    "    print(s, r, sep=\"\\t\")"
   ]
  },
  {
   "cell_type": "markdown",
   "id": "c03ec53b",
   "metadata": {},
   "source": [
    "State frame of last game played."
   ]
  },
  {
   "cell_type": "code",
   "execution_count": 36,
   "id": "b188e753",
   "metadata": {},
   "outputs": [
    {
     "data": {
      "text/html": [
       "<div>\n",
       "<style scoped>\n",
       "    .dataframe tbody tr th:only-of-type {\n",
       "        vertical-align: middle;\n",
       "    }\n",
       "\n",
       "    .dataframe tbody tr th {\n",
       "        vertical-align: top;\n",
       "    }\n",
       "\n",
       "    .dataframe thead th {\n",
       "        text-align: right;\n",
       "    }\n",
       "</style>\n",
       "<table border=\"1\" class=\"dataframe\">\n",
       "  <thead>\n",
       "    <tr style=\"text-align: right;\">\n",
       "      <th></th>\n",
       "      <th>X</th>\n",
       "      <th>G1</th>\n",
       "      <th>H</th>\n",
       "      <th>G2</th>\n",
       "      <th>R</th>\n",
       "    </tr>\n",
       "    <tr>\n",
       "      <th>door_id</th>\n",
       "      <th></th>\n",
       "      <th></th>\n",
       "      <th></th>\n",
       "      <th></th>\n",
       "      <th></th>\n",
       "    </tr>\n",
       "  </thead>\n",
       "  <tbody>\n",
       "    <tr>\n",
       "      <th>A</th>\n",
       "      <td>1</td>\n",
       "      <td>0</td>\n",
       "      <td>0</td>\n",
       "      <td>1</td>\n",
       "      <td>1</td>\n",
       "    </tr>\n",
       "    <tr>\n",
       "      <th>B</th>\n",
       "      <td>0</td>\n",
       "      <td>0</td>\n",
       "      <td>1</td>\n",
       "      <td>0</td>\n",
       "      <td>0</td>\n",
       "    </tr>\n",
       "    <tr>\n",
       "      <th>C</th>\n",
       "      <td>0</td>\n",
       "      <td>1</td>\n",
       "      <td>0</td>\n",
       "      <td>0</td>\n",
       "      <td>0</td>\n",
       "    </tr>\n",
       "  </tbody>\n",
       "</table>\n",
       "</div>"
      ],
      "text/plain": [
       "         X  G1  H  G2  R\n",
       "door_id                 \n",
       "A        1   0  0   1  1\n",
       "B        0   0  1   0  0\n",
       "C        0   1  0   0  0"
      ]
     },
     "execution_count": 36,
     "metadata": {},
     "output_type": "execute_result"
    }
   ],
   "source": [
    "mh.game"
   ]
  }
 ],
 "metadata": {
  "kernelspec": {
   "display_name": "Python 3",
   "language": "python",
   "name": "python3"
  },
  "language_info": {
   "codemirror_mode": {
    "name": "ipython",
    "version": 3
   },
   "file_extension": ".py",
   "mimetype": "text/x-python",
   "name": "python",
   "nbconvert_exporter": "python",
   "pygments_lexer": "ipython3",
   "version": "3.9.19"
  }
 },
 "nbformat": 4,
 "nbformat_minor": 5
}
