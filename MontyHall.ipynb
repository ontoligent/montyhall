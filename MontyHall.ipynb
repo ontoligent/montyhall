{
 "cells": [
  {
   "cell_type": "markdown",
   "id": "ae40ae5f-28f6-4012-a8c7-b9ce0fa0d0e5",
   "metadata": {
    "tags": []
   },
   "source": [
    "# The Monty Hall Problem\n",
    "\n",
    "This notebooks implements a solutions "
   ]
  },
  {
   "cell_type": "code",
   "execution_count": 1,
   "id": "42461468-250e-4fb7-b412-697c9d9f8538",
   "metadata": {
    "tags": []
   },
   "outputs": [],
   "source": [
    "import pandas as pd\n",
    "import numpy as np"
   ]
  },
  {
   "cell_type": "markdown",
   "id": "71f01b91-e489-4574-af30-64c3e2df597e",
   "metadata": {},
   "source": [
    "# Model"
   ]
  },
  {
   "cell_type": "markdown",
   "id": "452b8574-eb70-438e-881a-65c199404481",
   "metadata": {},
   "source": [
    "![](monty-hall-as-pgm.png)"
   ]
  },
  {
   "cell_type": "markdown",
   "id": "1710f0aa-78a4-42f2-b3c0-3be5910bacfb",
   "metadata": {
    "tags": []
   },
   "source": [
    "$$\n",
    "X(): x \\sim random(D)\\\\\n",
    "G_1(): g_1 \\sim random(D)\\\\\n",
    "H(x, g_1): h \\sim random(D - \\{x \\cup g_1\\})\\\\\n",
    "G_2(g_1, h, s) = \\left\\{ \\begin{array}{ll}\n",
    "        s = switch: & D - \\{h \\cup g_1\\} \\\\\n",
    "        s = keep: & g_1 \\\\\n",
    "        s = flip: & random(D - h)\n",
    "\\end{array} \\right.\\\\\n",
    "R(x, g_2): r = x \\equiv g_2\\\\\n",
    "$$"
   ]
  },
  {
   "attachments": {
    "9d58abcb-2b5a-4aeb-b91a-e487c95236e7.png": {
     "image/png": "[encoded data removed]"
    }
   },
   "cell_type": "markdown",
   "id": "c4707a91-5a5d-4e68-846c-88cd86a6f359",
   "metadata": {},
   "source": [
    "Example game where contestant switched and won.\n",
    "\n",
    "![image.png](attachment:9d58abcb-2b5a-4aeb-b91a-e487c95236e7.png)"
   ]
  },
  {
   "cell_type": "markdown",
   "id": "e4fdc8cc-a5ba-4b4c-9f31-b282b2b03ce8",
   "metadata": {},
   "source": [
    "# As Class"
   ]
  },
  {
   "cell_type": "code",
   "execution_count": 49,
   "id": "c9e52cf8-c89f-4105-80da-b90b4667d827",
   "metadata": {
    "tags": []
   },
   "outputs": [],
   "source": [
    "class MontyHall():\n",
    "    \n",
    "    S  = \"keep switch flip\".split()\n",
    "    D = \"A B C\".split()\n",
    "\n",
    "    # Initialize the game \n",
    "    def __init__(self, s = 'switch'):\n",
    "        if s not in self.S:\n",
    "            raise ValueError(f\"s must be one of {S}.\")\n",
    "        self.s = s\n",
    "        self.game = pd.DataFrame(dict(X = None), index=pd.Index(self.D, name='door_id'))\n",
    "            \n",
    "    # Hide the car\n",
    "    def X(self):\n",
    "        self.game.X = 0\n",
    "        self.game.loc[self.game.sample().index, 'X'] = 1\n",
    "        \n",
    "    # Contestant's first guess\n",
    "    def G1(self):\n",
    "        self.game['G1'] = 0\n",
    "        self.game.loc[self.game.sample().index, 'G1'] = 1\n",
    "        \n",
    "    # Host's reveal\n",
    "    def H(self):\n",
    "        self.game['H'] = 0\n",
    "        # idx = (self.game.X + self.game.G1) == 0\n",
    "        self.game.loc[self.game[(self.game.X == 0) & (self.game.G1 == 0)].sample().index, 'H'] = 1\n",
    "        \n",
    "    # Contestant's second guess\n",
    "    def G2(self):\n",
    "        self.game['G2'] = 0\n",
    "        if self.s == 'switch':\n",
    "            # idx = (self.game.G1 + self.game.H) == 0\n",
    "            self.game.loc[self.game[(self.game.G1 == 0) & (self.game.H == 0)].index, 'G2'] = 1\n",
    "        elif self.s == 'keep':\n",
    "            self.game.G2 = self.game.G1\n",
    "        elif self.s == 'flip':\n",
    "            # idx = self.game.H == 0\n",
    "            self.game.loc[self.game[self.game.H == 0].sample().index, 'G2'] = 1\n",
    "        else:\n",
    "            pass\n",
    "        \n",
    "    # Result of the game\n",
    "    def R(self):\n",
    "        self.game['R'] = self.game.X * self.game.G2\n",
    "        self.result = self.game.R.sum()\n",
    "        \n",
    "    def play(self):\n",
    "        self.X()\n",
    "        self.G1()\n",
    "        self.H()\n",
    "        self.G2()\n",
    "        self.R() \n",
    "        return self\n",
    "    \n",
    "    def play_many(self, n=1000):\n",
    "        return sum([mh.play().result for i in range(n)]) / n    "
   ]
  },
  {
   "cell_type": "code",
   "execution_count": 41,
   "id": "7f11d719-fd65-4d40-a493-3b7cb6592dba",
   "metadata": {
    "tags": []
   },
   "outputs": [],
   "source": [
    "mh = MontyHall()"
   ]
  },
  {
   "cell_type": "code",
   "execution_count": 42,
   "id": "af9ed3c3-c745-4178-b678-2233f1cdc775",
   "metadata": {
    "tags": []
   },
   "outputs": [
    {
     "data": {
      "text/plain": [
       "0.333"
      ]
     },
     "execution_count": 42,
     "metadata": {},
     "output_type": "execute_result"
    }
   ],
   "source": [
    "mh.s = 'keep'\n",
    "mh.play_many()"
   ]
  },
  {
   "cell_type": "code",
   "execution_count": 46,
   "id": "a0992425-358c-4e5a-8638-24547d60d363",
   "metadata": {
    "tags": []
   },
   "outputs": [
    {
     "data": {
      "text/plain": [
       "0.664"
      ]
     },
     "execution_count": 46,
     "metadata": {},
     "output_type": "execute_result"
    }
   ],
   "source": [
    "mh.s = 'switch'\n",
    "mh.play_many()"
   ]
  },
  {
   "cell_type": "code",
   "execution_count": 44,
   "id": "657b6a77-3e45-43a0-a62d-e65abe961e76",
   "metadata": {
    "tags": []
   },
   "outputs": [
    {
     "data": {
      "text/plain": [
       "0.503"
      ]
     },
     "execution_count": 44,
     "metadata": {},
     "output_type": "execute_result"
    }
   ],
   "source": [
    "mh.s = 'flip'\n",
    "mh.play_many()"
   ]
  },
  {
   "cell_type": "code",
   "execution_count": 48,
   "id": "19e854c2-360f-4d0e-bfe0-3c9da364f82d",
   "metadata": {
    "tags": []
   },
   "outputs": [
    {
     "data": {
      "text/html": [
       "<div>\n",
       "<style scoped>\n",
       "    .dataframe tbody tr th:only-of-type {\n",
       "        vertical-align: middle;\n",
       "    }\n",
       "\n",
       "    .dataframe tbody tr th {\n",
       "        vertical-align: top;\n",
       "    }\n",
       "\n",
       "    .dataframe thead th {\n",
       "        text-align: right;\n",
       "    }\n",
       "</style>\n",
       "<table border=\"1\" class=\"dataframe\">\n",
       "  <thead>\n",
       "    <tr style=\"text-align: right;\">\n",
       "      <th></th>\n",
       "      <th>X</th>\n",
       "      <th>G1</th>\n",
       "      <th>H</th>\n",
       "      <th>G2</th>\n",
       "      <th>R</th>\n",
       "    </tr>\n",
       "    <tr>\n",
       "      <th>door_id</th>\n",
       "      <th></th>\n",
       "      <th></th>\n",
       "      <th></th>\n",
       "      <th></th>\n",
       "      <th></th>\n",
       "    </tr>\n",
       "  </thead>\n",
       "  <tbody>\n",
       "    <tr>\n",
       "      <th>A</th>\n",
       "      <td>0</td>\n",
       "      <td>1</td>\n",
       "      <td>0</td>\n",
       "      <td>0</td>\n",
       "      <td>0</td>\n",
       "    </tr>\n",
       "    <tr>\n",
       "      <th>B</th>\n",
       "      <td>0</td>\n",
       "      <td>0</td>\n",
       "      <td>1</td>\n",
       "      <td>0</td>\n",
       "      <td>0</td>\n",
       "    </tr>\n",
       "    <tr>\n",
       "      <th>C</th>\n",
       "      <td>1</td>\n",
       "      <td>0</td>\n",
       "      <td>0</td>\n",
       "      <td>1</td>\n",
       "      <td>1</td>\n",
       "    </tr>\n",
       "  </tbody>\n",
       "</table>\n",
       "</div>"
      ],
      "text/plain": [
       "         X  G1  H  G2  R\n",
       "door_id                 \n",
       "A        0   1  0   0  0\n",
       "B        0   0  1   0  0\n",
       "C        1   0  0   1  1"
      ]
     },
     "execution_count": 48,
     "metadata": {},
     "output_type": "execute_result"
    }
   ],
   "source": [
    "mh.game"
   ]
  },
  {
   "cell_type": "code",
   "execution_count": null,
   "id": "f5586a85-4225-484e-bc20-1bc8ba469821",
   "metadata": {},
   "outputs": [],
   "source": []
  }
 ],
 "metadata": {
  "kernelspec": {
   "display_name": "eta",
   "language": "python",
   "name": "eta"
  },
  "language_info": {
   "codemirror_mode": {
    "name": "ipython",
    "version": 3
   },
   "file_extension": ".py",
   "mimetype": "text/x-python",
   "name": "python",
   "nbconvert_exporter": "python",
   "pygments_lexer": "ipython3",
   "version": "3.9.19"
  }
 },
 "nbformat": 4,
 "nbformat_minor": 5
}
