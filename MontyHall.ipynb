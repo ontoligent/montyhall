{
 "cells": [
  {
   "cell_type": "markdown",
   "id": "ae40ae5f-28f6-4012-a8c7-b9ce0fa0d0e5",
   "metadata": {
    "tags": []
   },
   "source": [
    "# The Monty Hall Problem\n",
    "\n",
    "R.C. Alvarado\n",
    "\n",
    "This notebook implements a solution to the Monty Hall problem as given in the paper, [\"What's So Hard about the Monty Hall Problem\" (Alvarado 2024)](./alvaado-2024.pdf). "
   ]
  },
  {
   "cell_type": "markdown",
   "id": "71f01b91-e489-4574-af30-64c3e2df597e",
   "metadata": {},
   "source": [
    "# Model\n",
    "\n",
    "The problem is represented as a probabilistic graphic model (PGM) with six random variables represented as nodes."
   ]
  },
  {
   "cell_type": "markdown",
   "id": "452b8574-eb70-438e-881a-65c199404481",
   "metadata": {},
   "source": [
    "![](monty-hall-as-pgm.png)"
   ]
  },
  {
   "cell_type": "markdown",
   "id": "1710f0aa-78a4-42f2-b3c0-3be5910bacfb",
   "metadata": {
    "tags": []
   },
   "source": [
    "Each of the nodes in the graph correspond to a random variable. These are represented here:\n",
    "\n",
    "$D = \\{A, B, C\\}$\n",
    "\n",
    "$S(): s \\in \\{keep, switch, flip\\}$\n",
    "\n",
    "$X(): x \\in D$\n",
    "\n",
    "$G_1(): g_1 \\in D$\n",
    "\n",
    "$H(x, g_1): h \\in D - \\{x \\cup g_1\\}$\n",
    "\n",
    "$G_2(g_1, h, s): \\left\\{ \\begin{array}{ll}\n",
    "        s = switch: & g_2 \\in D - \\{h \\cup g_1\\} \\\\\n",
    "        s = keep: & g_2 = g_1 \\\\\n",
    "        s = flip: & g_2 \\in D - h\n",
    "\\end{array} \\right.\\\\$\n",
    "\n",
    "$R(x, g_2): r = x \\equiv g_2$"
   ]
  },
  {
   "cell_type": "markdown",
   "id": "e4fdc8cc-a5ba-4b4c-9f31-b282b2b03ce8",
   "metadata": {},
   "source": [
    "# Class\n",
    "\n",
    "The following class defines methods for each of the random variables described above.\n",
    "\n",
    "It also defines methods for playing the game in order to test hypotheses about the probabilities\\\n",
    " of winning and losing based on the strategy $S$ to switch or keep doors after the host opens a door.\n",
    "\n",
    "We model the game as a state frame with each door $\\in D$ as a row and each random variable as a column.\n",
    "\n",
    "Each column may take values $\\{0,1\\}$. For example, here is a game in which the contestant wins by switching:\n",
    "\n",
    "| $D$ | $X$ | $G_1$ | $H$ | $G_2$ | $R$ |\n",
    "|-----|---|---|---|---|---|\n",
    "| $A$ | 1 | 0 | 0 | 1 | 1 |\n",
    "| $B$ | 0 | 1 | 0 | 0 | 0 |\n",
    "| $C$ | 0 | 0 | 1 | 0 | 0 |\n",
    "\n",
    "\n",
    "$S$ is not modeled as a column since it is a meta-variable that corresponds to the hypothesis about which strategy to choose.\n",
    "\n",
    "Note that in this form the dataframe acts as a truth table, and each function can be expressed as truth functions, like so:\n",
    "\n",
    "$H(x, g_1): h \\in \\neg (x \\lor g_1)$\n",
    "\n",
    "$G_2(g_1, h, s=switch): g_2 \\in \\neg (g_1 \\lor h)$ \n",
    "\n",
    "$R(x, g_2): r = x \\land g_2$\n",
    "\n",
    "Each state table assumes a value of $S$."
   ]
  },
  {
   "cell_type": "code",
   "execution_count": 57,
   "id": "a4c7137a",
   "metadata": {},
   "outputs": [],
   "source": [
    "import pandas as pd\n",
    "\n",
    "class MontyHall():\n",
    "    \n",
    "    # Define primitive sets\n",
    "    S  = \"keep switch flip\".split() # The three strategies\n",
    "    D = \"A B C\".split() # The three doors\n",
    "\n",
    "    # Initialize the game \n",
    "    def __init__(self, s = 'switch'):\n",
    "        if s not in self.S:\n",
    "            raise ValueError(f\"s must be one of {S}.\")\n",
    "        self.s = s\n",
    "\n",
    "        # We represent the state of game as a dataframe\n",
    "        self.game = pd.DataFrame(dict(X = None), index=pd.Index(self.D, name='D'))\n",
    "            \n",
    "    # Hide the car\n",
    "    def X(self):\n",
    "        self.game.X = 0\n",
    "        self.game.loc[self.game.sample().index, 'X'] = 1\n",
    "        \n",
    "    # Contestant's first guess\n",
    "    def G1(self):\n",
    "        self.game['G1'] = 0\n",
    "        self.game.loc[self.game.sample().index, 'G1'] = 1\n",
    "        \n",
    "    # Host's reveal\n",
    "    def H(self):\n",
    "        self.game['H'] = 0\n",
    "        # idx = (self.game.X + self.game.G1) == 0\n",
    "        self.game.loc[self.game[(self.game.X == 0) & (self.game.G1 == 0)].sample().index, 'H'] = 1\n",
    "        \n",
    "    # Contestant's second guess\n",
    "    def G2(self):\n",
    "        self.game['G2'] = 0\n",
    "        if self.s == 'switch':\n",
    "            # idx = (self.game.G1 + self.game.H) == 0\n",
    "            self.game.loc[self.game[(self.game.G1 == 0) & (self.game.H == 0)].index, 'G2'] = 1\n",
    "        elif self.s == 'keep':\n",
    "            self.game.G2 = self.game.G1\n",
    "        elif self.s == 'flip':\n",
    "            # idx = self.game.H == 0\n",
    "            self.game.loc[self.game[self.game.H == 0].sample().index, 'G2'] = 1\n",
    "        else:\n",
    "            raise ValueError(f\"Strategy not one of {self.S}.\")\n",
    "        \n",
    "    # Result of the game\n",
    "    def R(self):\n",
    "        self.game['R'] = self.game.X * self.game.G2\n",
    "        self.result = self.game.R.sum()\n",
    "        \n",
    "    # Play a single game\n",
    "    def play_one(self):\n",
    "        self.X()\n",
    "        self.G1()\n",
    "        self.H()\n",
    "        self.G2()\n",
    "        self.R() \n",
    "        return self\n",
    "    \n",
    "    # Play many games to test hypotheses\n",
    "    def play_many(self, n=1000):\n",
    "        return sum([self.play_one().result for i in range(n)]) / n    "
   ]
  },
  {
   "cell_type": "markdown",
   "id": "04aabe80",
   "metadata": {},
   "source": [
    "# Test\n",
    "\n",
    "We test the model with the three strategies."
   ]
  },
  {
   "cell_type": "code",
   "execution_count": 58,
   "id": "7f11d719-fd65-4d40-a493-3b7cb6592dba",
   "metadata": {
    "tags": []
   },
   "outputs": [],
   "source": [
    "mh = MontyHall()"
   ]
  },
  {
   "cell_type": "code",
   "execution_count": 59,
   "id": "f5586a85-4225-484e-bc20-1bc8ba469821",
   "metadata": {},
   "outputs": [
    {
     "name": "stdout",
     "output_type": "stream",
     "text": [
      "s\tp\n",
      "keep\t0.303\n",
      "switch\t0.642\n",
      "flip\t0.485\n"
     ]
    }
   ],
   "source": [
    "print(\"s\\tp\")\n",
    "for s in MontyHall.S:\n",
    "    mh.s = s\n",
    "    r = mh.play_many()\n",
    "    print(s, r, sep=\"\\t\")"
   ]
  },
  {
   "cell_type": "markdown",
   "id": "c03ec53b",
   "metadata": {},
   "source": [
    "Example of single game."
   ]
  },
  {
   "cell_type": "code",
   "execution_count": 65,
   "id": "b188e753",
   "metadata": {},
   "outputs": [
    {
     "name": "stdout",
     "output_type": "stream",
     "text": [
      "   X  G1  H  G2  R\n",
      "D                 \n",
      "A  1   0  0   1  1\n",
      "B  0   0  1   0  0\n",
      "C  0   1  0   0  0\n",
      "Strategy: switch\n",
      "Result: 1\n"
     ]
    }
   ],
   "source": [
    "mh.s = 'switch'\n",
    "mh.play_one()\n",
    "print(mh.game)\n",
    "print('Strategy:', mh.s)\n",
    "print('Result:', mh.result)"
   ]
  },
  {
   "cell_type": "code",
   "execution_count": null,
   "id": "9de9ff20",
   "metadata": {},
   "outputs": [],
   "source": []
  }
 ],
 "metadata": {
  "kernelspec": {
   "display_name": "Python 3",
   "language": "python",
   "name": "python3"
  },
  "language_info": {
   "codemirror_mode": {
    "name": "ipython",
    "version": 3
   },
   "file_extension": ".py",
   "mimetype": "text/x-python",
   "name": "python",
   "nbconvert_exporter": "python",
   "pygments_lexer": "ipython3",
   "version": "3.9.19"
  }
 },
 "nbformat": 4,
 "nbformat_minor": 5
}
